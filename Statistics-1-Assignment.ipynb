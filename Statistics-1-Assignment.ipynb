{
 "cells": [
  {
   "cell_type": "code",
   "execution_count": 2,
   "metadata": {
    "collapsed": true
   },
   "outputs": [],
   "source": [
    "import numpy as np"
   ]
  },
  {
   "cell_type": "markdown",
   "metadata": {},
   "source": [
    "** Problem Statement **"
   ]
  },
  {
   "cell_type": "markdown",
   "metadata": {},
   "source": [
    "\"\"\"\n",
    "\n",
    "Problem Statement 1:\n",
    "You survey households in your area to find the average rent they are paying. Find the\n",
    "standard deviation from the following data:\n",
    "$1550, $1700, $900, $850, $1000, $950.\n",
    "\n",
    "Problem Statement 2:\n",
    "Find the variance for the following set of data representing trees in California (heights in\n",
    "feet):\n",
    "3, 21, 98, 203, 17, 9\n",
    "\n",
    "Problem Statement 3:\n",
    "In a class on 100 students, 80 students passed in all subjects, 10 failed in one subject, 7\n",
    "failed in two subjects and 3 failed in three subjects. Find the probability distribution of\n",
    "the variable for number of subjects a student from the given class has failed in.\n",
    "\n",
    "\"\"\""
   ]
  },
  {
   "cell_type": "markdown",
   "metadata": {},
   "source": [
    "** Problem Statement 1: **\n",
    "    \n",
    "You survey households in your area to find the average rent they are paying. Find the\n",
    "standard deviation from the following data:\n",
    "$1550, $1700, $900, $850, $1000, $950."
   ]
  },
  {
   "cell_type": "code",
   "execution_count": 5,
   "metadata": {},
   "outputs": [
    {
     "name": "stdout",
     "output_type": "stream",
     "text": [
      "Average rent paid by the householdsfor the sample information collected :  1155.56\n",
      "The limits of data perating to rent paid by the houesholds is +/- : 320.11\n"
     ]
    }
   ],
   "source": [
    "x = [1550,1550,1700, 900,900,850, 1000,1000,950]\n",
    "Avg_rent_paid = np.mean(x)\n",
    "std_dev = np.std(x)\n",
    "\n",
    "print('Average rent paid by the householdsfor the sample information collected :  {:0.2f}'.format(Avg_rent_paid))\n",
    "print('The limits of data perating to rent paid by the houesholds is +/- : {:0.2f}'.format(std_dev))"
   ]
  },
  {
   "cell_type": "markdown",
   "metadata": {},
   "source": [
    "** Problem Statement 2: **\n",
    "    \n",
    "Find the variance for the following set of data representing trees in California (heights in\n",
    "feet): 3, 21, 98, 203, 17, 9"
   ]
  },
  {
   "cell_type": "code",
   "execution_count": 9,
   "metadata": {},
   "outputs": [
    {
     "name": "stdout",
     "output_type": "stream",
     "text": [
      "The spread of data pertaining to the height of trees is : 5183.25\n"
     ]
    }
   ],
   "source": [
    "#x : height of trees in feet\n",
    "x = [3, 21, 98, 203, 17, 9]\n",
    "variance = np.var(x)\n",
    "\n",
    "print(\"The spread of data pertaining to the height of trees is : {:0.2f}\".format(variance))\n"
   ]
  },
  {
   "cell_type": "markdown",
   "metadata": {},
   "source": [
    "** Problem Statement 3: **\n",
    "    \n",
    "In a class on 100 students, 80 students passed in all subjects, 10 failed in one subject, 7\n",
    "failed in two subjects and 3 failed in three subjects. Find the probability distribution of\n",
    "the variable for number of subjects a student from the given class has failed in."
   ]
  },
  {
   "cell_type": "code",
   "execution_count": 20,
   "metadata": {},
   "outputs": [
    {
     "name": "stdout",
     "output_type": "stream",
     "text": [
      "Probability failed in no subjects:  0.8\n",
      "Probability failed in 1 subject:  0.1\n",
      "Probability failed in 2 subjects:  0.07\n",
      "Probability failed in 3 subjects:  0.03\n"
     ]
    }
   ],
   "source": [
    "import matplotlib.pyplot as plt\n",
    "%matplotlib inline\n",
    "n_students = 100\n",
    "passed_all = 80\n",
    "failed_one = 10\n",
    "failed_two = 7\n",
    "failed_three = 3\n",
    "\n",
    "num_students_not_passed_all = n_students - passed_all\n",
    "prob_failed_none = passed_all / n_students\n",
    "prob_failed_in_one = failed_one/n_students\n",
    "prob_failed_in_two = failed_two/n_students\n",
    "prob_failed_in_three = failed_three/n_students\n",
    "\n",
    "print(\"Probability failed in no subjects: \",prob_failed_none)\n",
    "print(\"Probability failed in 1 subject: \",prob_failed_in_one)\n",
    "print(\"Probability failed in 2 subjects: \",prob_failed_in_two)\n",
    "print(\"Probability failed in 3 subjects: \",prob_failed_in_three)"
   ]
  },
  {
   "cell_type": "code",
   "execution_count": 21,
   "metadata": {},
   "outputs": [
    {
     "data": {
      "text/plain": [
       "Text(0.5,1,'PDF/CDF of students w.r.t subjects passed')"
      ]
     },
     "execution_count": 21,
     "metadata": {},
     "output_type": "execute_result"
    },
    {
     "data": {
      "image/png": "[encoded data removed]",
      "text/plain": [
       "<matplotlib.figure.Figure at 0x15cad832198>"
      ]
     },
     "metadata": {},
     "output_type": "display_data"
    }
   ],
   "source": [
    "x = [prob_failed_none,prob_failed_in_one,prob_failed_in_two,prob_failed_in_three]\n",
    "counts, bin_edges = np.histogram(x, bins=10, density= True)\n",
    "pdf = counts/(sum(counts))\n",
    "cdf = np.cumsum(pdf)\n",
    "\n",
    "plt.figure(figsize=(12,8))\n",
    "\n",
    "plt.subplot(1, 2, 1)\n",
    "plt.plot(bin_edges[1:], pdf,label=\"PDF\")\n",
    "plt.plot(bin_edges[1:], cdf,label=\"CDF\")\n",
    "plt.legend()\n",
    "plt.tight_layout()\n",
    "plt.title(\"PDF/CDF of students w.r.t subjects passed\")"
   ]
  },
  {
   "cell_type": "code",
   "execution_count": 13,
   "metadata": {},
   "outputs": [
    {
     "data": {
      "text/plain": [
       "array([0.83333333, 0.        , 0.        , 0.83333333, 0.        ,\n",
       "       0.        , 0.83333333, 0.        , 0.        , 0.83333333])"
      ]
     },
     "execution_count": 13,
     "metadata": {},
     "output_type": "execute_result"
    }
   ],
   "source": [
    "counts_survived"
   ]
  }
 ],
 "metadata": {
  "kernelspec": {
   "display_name": "Python 3",
   "language": "python",
   "name": "python3"
  },
  "language_info": {
   "codemirror_mode": {
    "name": "ipython",
    "version": 3
   },
   "file_extension": ".py",
   "mimetype": "text/x-python",
   "name": "python",
   "nbconvert_exporter": "python",
   "pygments_lexer": "ipython3",
   "version": "3.5.4"
  }
 },
 "nbformat": 4,
 "nbformat_minor": 2
}
